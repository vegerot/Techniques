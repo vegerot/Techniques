{
 "cells": [
  {
   "cell_type": "markdown",
   "metadata": {},
   "source": [
    "# CCD Basics I  Photometric data\n",
    "________________________________________________________________________________________-\n",
    "\n",
    "This exercise is adapted from an introductory tutorial to IRAF (Image Reduction and Analysis Facility): http://iraf.noao.edu/ \n",
    "\n",
    "The IRAF tools are now no longer supported by the National Optical Astronomy Observatory, but most have been imported into equivalent python routines within the Astropy package. Right now, however, we're just using basic image math to apply the necessary corrections to data frames.\n",
    "\n",
    "This exercise is designed to show you how to accomplish preliminary reductions of CCD data, including:\n",
    " - trimming of the overscan region\n",
    " - subtraction of the bias or zero level, and \n",
    " - flat field correction.\n",
    "\n",
    "The images for this exercise are direct imaging data taken at the Kitt Peak National Observatory by Dr. George Jacoby. The files are called m92001.fits, m92006.fits, etc.\n",
    "\n",
    "These image files are the data and calibration frames for some images of M92. There is one master bias or \"zero\" frame and also two flat field frames and four images all taken through either B or V filters.\n",
    "\n",
    "We will work through spectroscopic data reductions (files: sp\\*.fits) in another excercise.\n",
    "\n",
    "This exercise assumes that you have:\n",
    "(1) installed Astroconda on your laptop and \n",
    "(2) worked through the previous homework assignments and have some familiarity with the basics of python.\n"
   ]
  },
  {
   "cell_type": "code",
   "execution_count": 6,
   "metadata": {},
   "outputs": [],
   "source": [
    "# initial imports of python packages\n",
    "import numpy as np\n",
    "import matplotlib.pyplot as plt\n",
    "\n",
    "# change some default plotting parameters\n",
    "import matplotlib as mpl\n",
    "mpl.rcParams['image.origin'] = 'lower'\n",
    "mpl.rcParams['image.interpolation'] = 'nearest'\n",
    "mpl.rcParams['image.cmap'] = 'Greys_r'\n",
    "\n",
    "# run the %matplotlib magic command to enable inline plotting\n",
    "# in the current Notebook\n",
    "%matplotlib inline"
   ]
  },
  {
   "cell_type": "markdown",
   "metadata": {},
   "source": [
    "## Handling FITS files\n",
    "\n",
    "For more information about astropy.io.fits, see http://docs.astropy.org/en/stable/io/fits/index.html"
   ]
  },
  {
   "cell_type": "code",
   "execution_count": 7,
   "metadata": {},
   "outputs": [],
   "source": [
    "#import astropy fits file handling package and read data array from fits file\n",
    "from astropy.io import fits\n",
    "sci_fn = 'data/m92001.fits'\n",
    "sci_hdulist = fits.open(sci_fn)"
   ]
  },
  {
   "cell_type": "code",
   "execution_count": 8,
   "metadata": {},
   "outputs": [
    {
     "name": "stdout",
     "output_type": "stream",
     "text": [
      "Filename: data/m92001.fits\n",
      "No.    Name      Ver    Type      Cards   Dimensions   Format\n",
      "  0  PRIMARY       1 PrimaryHDU      71   (352, 512)   int16   \n"
     ]
    }
   ],
   "source": [
    "#give fits info\n",
    "sci_hdulist.info()"
   ]
  },
  {
   "cell_type": "code",
   "execution_count": 9,
   "metadata": {},
   "outputs": [
    {
     "name": "stdout",
     "output_type": "stream",
     "text": [
      "(512, 352)\n",
      "float64\n"
     ]
    }
   ],
   "source": [
    "# define the data array and list size and data type\n",
    "data = sci_hdulist[0].data.astype(np.float)\n",
    "print(data.shape)\n",
    "print(data.dtype)"
   ]
  },
  {
   "cell_type": "markdown",
   "metadata": {},
   "source": [
    "## FITS headers"
   ]
  },
  {
   "cell_type": "code",
   "execution_count": 10,
   "metadata": {},
   "outputs": [
    {
     "data": {
      "text/plain": [
       "SIMPLE  =                    T / Fits standard                                  \n",
       "BITPIX  =                   16 / Bits per pixel                                 \n",
       "NAXIS   =                    2 / Number of axes                                 \n",
       "NAXIS1  =                  352 / Axis length                                    \n",
       "NAXIS2  =                  512 / Axis length                                    \n",
       "EXTEND  =                    F / File may contain extensions                    \n",
       "ORIGIN  = 'NOAO-IRAF FITS Image Kernel July 2003' / FITS file originator        \n",
       "DATE    = '2015-10-07T17:26:39' / Date FITS file was generated                  \n",
       "IRAF-TLM= '2015-10-07T17:26:39' / Time of last modification                     \n",
       "DATAMIN =           4.940000E2 / Minimum data value                             \n",
       "DATAMAX =           7.130000E2 / Maximum data value                             \n",
       "OBJECT  = 'ave of 25 bias'     / Name of the object observed                    \n",
       "IRAF-MAX=           7.130000E2  /  DATA MAX                                     \n",
       "IRAF-MIN=           4.940000E2  /  DATA MIN                                     \n",
       "CCDPICNO=                  101  /  ORIGINAL CCD PICTURE NUMBER                  \n",
       "EXPTIME =                    0  /  ACTUAL INTEGRATION TIME (SECONDS)            \n",
       "DARKTIME=                    0  /  TOTAL ELAPSED TIME (SECONDS)                 \n",
       "OTIME   =                    0  /  SHUTTER OPEN TIME (SECS)                     \n",
       "IMAGETYP= 'BIAS    '            /  OBJECT,DARK,BIAS,ETC.                        \n",
       "DATE-OBS= '31/08/87'            /  DATE DD/MM/YY                                \n",
       "RA      = '15:00:05.00'         /  RIGHT ASCENSION (TELESCOPE)                  \n",
       "DEC     = '-28:14:59.00'        /  DECLINATION (TELESCOPE)                      \n",
       "EPOCH   =              1987.70  /  EPOCH OF RA AND DEC                          \n",
       "ZD      = '60:11:00.00'         /  ZENITH DISTANCE                              \n",
       "UT      = '23:50:58.00'         /  UNIVERSAL TIME                               \n",
       "ST      = '15:03:05.00'         /  SIDEREAL TIME                                \n",
       "DETECTOR= 'RCA1    '            /  DETECTOR (CCD TYPE, PHOTON COUNTER, ETC)     \n",
       "CAMTEMP =              -104.37  /  CAMERA TEMPERATURE, DEG C                    \n",
       "DEWTEMP =              -189.15  /  DEWAR TEMPRATURE, DEG C                      \n",
       "FILTERS = '2 0     '            /  FILTER BOLT POSITIONS                        \n",
       "TVFILT  =                    0  /  TV FILTER                                    \n",
       "COMPLAMP=                    0  /  COMPARISON LAMP                              \n",
       "DATASEC = '[1:320,1:512]'       /  IMAGE PORTION OF FRAME                       \n",
       "BIASSEC = '[321:352,1:512]'     /  OVERSCAN PORTION OF FRAME                    \n",
       "TRIMSEC = '[1:320,1:512]'       /  REGION TO BE EXTRACTED AFTER PROC            \n",
       "CCDSEC  = '[1:320,1:512]'       /  ORIENTATION TO FULL FORMAT FRAME             \n",
       "ORIGSEC = '[1:320,1:512]'       /  ORIGINAL SIZE OF FULL FORMAT FRAME           \n",
       "CCDSUM  = '1 1     '            /  ON CHIP SUMMATION (X,Y)                      \n",
       "HISTORY 'KPNO-IRAF'  /                                                          \n",
       "HISTORY '13-01-92'  /                                                           \n",
       "HISTORY New copy of /u2/jacoby/m92001.imh                                       \n",
       "HISTORY New copy of ursa!/u2/jbarnes/iraf/m92/m92001.imh                        \n",
       "                                                                                \n",
       "                                                                                \n",
       "                                                                                \n",
       "                                                                                \n",
       "                                                                                \n",
       "                                                                                \n",
       "                                                                                \n",
       "                                                                                \n",
       "                                                                                \n",
       "                                                                                \n",
       "                                                                                \n",
       "                                                                                \n",
       "                                                                                \n",
       "                                                                                \n",
       "                                                                                \n",
       "                                                                                \n",
       "                                                                                \n",
       "                                                                                \n",
       "                                                                                \n",
       "                                                                                \n",
       "                                                                                \n",
       "                                                                                \n",
       "                                                                                \n",
       "                                                                                \n",
       "                                                                                \n",
       "                                                                                \n",
       "                                                                                \n",
       "                                                                                \n",
       "                                                                                "
      ]
     },
     "execution_count": 10,
     "metadata": {},
     "output_type": "execute_result"
    }
   ],
   "source": [
    "# extract the data header and print it\n",
    "hdr = sci_hdulist[0].header\n",
    "hdr"
   ]
  },
  {
   "cell_type": "markdown",
   "metadata": {},
   "source": [
    "**QUESTION:** This file is an average of several bias frames. Investigate the header information above to find out how many frames were averaged to create this file.  (25)\n",
    "\n",
    "For the data reductions for your observing project, you will create a master bias like this one from the bias frames you take at the 16-inch telescope. \n",
    "\n",
    "Let's explore the header information a bit more now. From the output above, we see that the type of data file is listed in the \"IMAGETYP\" keyword of the header.\n",
    "\n",
    "We can also get header information by keyword indexing:"
   ]
  },
  {
   "cell_type": "code",
   "execution_count": 11,
   "metadata": {},
   "outputs": [
    {
     "data": {
      "text/plain": [
       "'BIAS'"
      ]
     },
     "execution_count": 11,
     "metadata": {},
     "output_type": "execute_result"
    }
   ],
   "source": [
    "hdr['IMAGETYP']"
   ]
  },
  {
   "cell_type": "markdown",
   "metadata": {},
   "source": [
    "Another way to get the image header:"
   ]
  },
  {
   "cell_type": "code",
   "execution_count": 95,
   "metadata": {},
   "outputs": [
    {
     "name": "stdout",
     "output_type": "stream",
     "text": [
      "713.0\n",
      "DATAMAX\n"
     ]
    }
   ],
   "source": [
    "from astropy.io.fits import getheader\n",
    "hdr = getheader('data/m92001.fits')                              \n",
    "val = hdr[10]                       # get the 11th keyword's value *remember 0 indexing!\n",
    "print(val)\n",
    "print(list(hdr.keys())[10])"
   ]
  },
  {
   "cell_type": "code",
   "execution_count": 96,
   "metadata": {},
   "outputs": [
    {
     "name": "stdout",
     "output_type": "stream",
     "text": [
      "494.0\n",
      "DATAMIN\n"
     ]
    }
   ],
   "source": [
    "val = hdr[9]\n",
    "print(val)\n",
    "print(list(hdr.keys())[9])"
   ]
  },
  {
   "cell_type": "markdown",
   "metadata": {},
   "source": [
    "#### \n",
    "**QUESTION:** The value of the 10th keyword is 494? What is the name of 10th header keyword (DATAMIN)? (Compare with the full header above)\n",
    "\n",
    "**QUESTION:** Add a cell below to get the DATE of the observation.\n",
    "\n",
    "Astropy installs some useful scripts you can use on the command line (outside of this notebook) to inspect the headers of your FITS files: http://docs.astropy.org/en/stable/io/fits/usage/scripts.html\n",
    "\n",
    "In a terminal window running astroconda (i.e. after typing \"source activate astroconda27\") use the fitsheader tool to look at the IMAGETYP keyword of all the m92\\*.fits files:\n",
    " \n",
    " > fitsheader --keyword IMAGETYP m92\\*.fits\n",
    "\n",
    "**QUESTION:** Copy and paste the output of the fitsheader command above. Now we know the values of the IMAGETYP for each image in the M92 observation set in your data directory\n",
    "\n",
    "$ fitsheader --keyword IMAGETYP m92*.fits\n",
    "# HDU 0 in m92001.fits:\n",
    "IMAGETYP= 'BIAS    '            /  OBJECT,DARK,BIAS,ETC.                        \n",
    "# HDU 0 in m92006.fits:\n",
    "IMAGETYP= 'DOME FLAT'           /  OBJECT,DARK,BIAS,ETC.                        \n",
    "# HDU 0 in m92007.fits:\n",
    "IMAGETYP= 'DOME FLAT'           /  OBJECT,DARK,BIAS,ETC.                        \n",
    "# HDU 0 in m92010.fits:\n",
    "IMAGETYP= 'OBJECT  '            /  OBJECT,DARK,BIAS,ETC.                        \n",
    "# HDU 0 in m92011.fits:\n",
    "IMAGETYP= 'OBJECT  '            /  OBJECT,DARK,BIAS,ETC.                        \n",
    "# HDU 0 in m92014.fits:\n",
    "IMAGETYP= 'OBJECT  '            /  OBJECT,DARK,BIAS,ETC.                        \n",
    "# HDU 0 in m92015.fits:\n",
    "IMAGETYP= 'OBJECT  '            /  OBJECT,DARK,BIAS,ETC.   \n",
    "\n",
    "\n",
    "## Image display\n"
   ]
  },
  {
   "cell_type": "code",
   "execution_count": 97,
   "metadata": {},
   "outputs": [
    {
     "data": {
      "text/plain": [
       "'31/08/87'"
      ]
     },
     "execution_count": 97,
     "metadata": {},
     "output_type": "execute_result"
    }
   ],
   "source": [
    "hdr['DATE-OBS']"
   ]
  },
  {
   "cell_type": "code",
   "execution_count": 14,
   "metadata": {},
   "outputs": [
    {
     "data": {
      "text/plain": [
       "<matplotlib.colorbar.Colorbar at 0x820ae8630>"
      ]
     },
     "execution_count": 14,
     "metadata": {},
     "output_type": "execute_result"
    },
    {
     "data": {
      "image/png": "[encoded data removed]",
      "text/plain": [
       "<Figure size 432x288 with 2 Axes>"
      ]
     },
     "metadata": {
      "needs_background": "light"
     },
     "output_type": "display_data"
    }
   ],
   "source": [
    "# display the data file \n",
    "from astropy.visualization import (MinMaxInterval, SqrtStretch, ImageNormalize)\n",
    "norm = ImageNormalize(data, interval=MinMaxInterval(),stretch=SqrtStretch())\n",
    "fig = plt.figure()\n",
    "ax = fig.add_subplot(1, 1, 1)\n",
    "im = ax.imshow(data, origin='lower',norm=norm)\n",
    "#don't need to put origin='lower' above, because we already modified the default origin when\n",
    "##importing mpl\n",
    "fig.colorbar(im)\n",
    "#plt.imshow(data, scale='sqrt', percent=99.5)"
   ]
  },
  {
   "cell_type": "code",
   "execution_count": 15,
   "metadata": {
    "scrolled": false
   },
   "outputs": [
    {
     "data": {
      "text/plain": [
       "<function matplotlib.pyplot.show(*args, **kw)>"
      ]
     },
     "execution_count": 15,
     "metadata": {},
     "output_type": "execute_result"
    },
    {
     "data": {
      "image/png": "[encoded data removed]",
      "text/plain": [
       "<Figure size 432x288 with 1 Axes>"
      ]
     },
     "metadata": {
      "needs_background": "light"
     },
     "output_type": "display_data"
    }
   ],
   "source": [
    "#plot a histogram of data values\n",
    "plt.hist(data.ravel(), bins=20, range=(0,800))\n",
    "plt.xlabel(\"Pixel value\")\n",
    "plt.ylabel(\"No. pixels\")\n",
    "plt.show"
   ]
  },
  {
   "cell_type": "markdown",
   "metadata": {},
   "source": [
    "**QUESTION:** Comment on the appearance of the greyscale image of the data frame you made above. (Recall the image type!)  \n",
    "The picture is largely uniform because this is just a BIAS image, which we would expect to be largely the uniform background, except for the areas that are biased.\n",
    "\n",
    "**QUESTION:** How does the histogram relate to the appearance of the greyscale image? \n",
    "For the same reason as above, most of the pixel values are the same, with a low deviation in values.\n",
    "\n",
    "\n",
    "## Overscan trimming\n",
    "\n",
    "We need to find the location of the overscan region on the CCD chip, which determines the trimming parameters and the output image size. For this chip the overscan region is the last several columns. The overscan region and any bad rows or columns along the edges of the frame are then trimmed from the image to produce a trimmed output image (still unreduced). \n",
    "\n",
    "We determine these parameters by examining an image OTHER THAN the master bias frame in ds9. A flat field works best.\n",
    "*Note: Under the Scale menu, uncheck \"Use DATASEC\" if it is checked. Also, it may help here to adjust the scale to 99% or similar using the top menu bar.*\n",
    "\n",
    "Use the ds9 window to determine the overscan region, i.e. the columns where the count values drop to a level that is approximately the level of the master bias frame you've been looking at up to this point.\n",
    "\n",
    "**QUESTION:** What columns are these overscan columms? \n",
    "Columns 319-352 are the overscan columns\n",
    "\n",
    "**QUESTION:** How does your answer to the previous question relate to the DATASEC and BIASSEC parameters in the header information above? What is the convention for specifying the columns & rows? \n",
    "The BIASSEC region are the overscan columns (along with the overscan rows, which is all of them)\n",
    "\n",
    "\n",
    "**QUESTION:** In an xterm window running astroconda3, change directories to the data directory where the m92\\*.fits files are found. Verify that the DATASEC in the header above applies to all the frames by using the fitsheader command:\n",
    "\n",
    "> fitsheader --keyword DATASEC m92*.fits\n",
    "\n",
    "Copy & paste the output below. Now do the same to verify that all the BIASSEC values are the same in each file.\n",
    "\n",
    "# HDU 0 in m92001.fits:\n",
    "DATASEC = '[1:320,1:512]'       /  IMAGE PORTION OF FRAME                       \n",
    "# HDU 0 in m92006.fits:\n",
    "DATASEC = '[1:320,1:512]'       /  IMAGE PORTION OF FRAME                       \n",
    "# HDU 0 in m92007.fits:\n",
    "DATASEC = '[1:320,1:512]'       /  IMAGE PORTION OF FRAME                       \n",
    "# HDU 0 in m92010.fits:\n",
    "DATASEC = '[1:320,1:512]'       /  IMAGE PORTION OF FRAME                       \n",
    "# HDU 0 in m92011.fits:\n",
    "DATASEC = '[1:320,1:512]'       /  IMAGE PORTION OF FRAME                       \n",
    "# HDU 0 in m92014.fits:\n",
    "DATASEC = '[1:320,1:512]'       /  IMAGE PORTION OF FRAME                       \n",
    "# HDU 0 in m92015.fits:\n",
    "DATASEC = '[1:320,1:512]'       /  IMAGE PORTION OF FRAME           \n",
    "\n",
    "\n",
    "# HDU 0 in m92001.fits:\n",
    "BIASSEC = '[321:352,1:512]'     /  OVERSCAN PORTION OF FRAME                    \n",
    "# HDU 0 in m92006.fits:\n",
    "BIASSEC = '[321:352,1:512]'     /  OVERSCAN PORTION OF FRAME                    \n",
    "# HDU 0 in m92007.fits:\n",
    "BIASSEC = '[321:352,1:512]'     /  OVERSCAN PORTION OF FRAME                    \n",
    "# HDU 0 in m92010.fits:\n",
    "BIASSEC = '[321:352,1:512]'     /  OVERSCAN PORTION OF FRAME                    \n",
    "# HDU 0 in m92011.fits:\n",
    "BIASSEC = '[321:352,1:512]'     /  OVERSCAN PORTION OF FRAME                    \n",
    "# HDU 0 in m92014.fits:\n",
    "BIASSEC = '[321:352,1:512]'     /  OVERSCAN PORTION OF FRAME                    \n",
    "# HDU 0 in m92015.fits:\n",
    "BIASSEC = '[321:352,1:512]'     /  OVERSCAN PORTION OF FRAME \n",
    "\n",
    "Now, let's trim the overscan region from all our images. The syntax for trimming the data array (remember, this is still just our master bias image from above) to keep all of the first index but only the first N rows of the second index is:"
   ]
  },
  {
   "cell_type": "code",
   "execution_count": 16,
   "metadata": {},
   "outputs": [
    {
     "name": "stdout",
     "output_type": "stream",
     "text": [
      "(512, 320)\n"
     ]
    }
   ],
   "source": [
    "#Replace N with the correct value, corresponding to (no. columns in the DATASEC above) -1 (zero indexing!)\n",
    "masterbias_trimmed = data[:,:320]\n",
    "print(masterbias_trimmed.shape)"
   ]
  },
  {
   "cell_type": "markdown",
   "metadata": {},
   "source": [
    "Refer to the Python tutorial, specifically the Numpy section on indexing and slicing for more \n",
    "information: <br>\n",
    "http://www.scipy-lectures.org/intro/numpy/array_object.html#indexing-and-slicing\n",
    "\n",
    "Now, write this new trimmed image to a fits file. (This step isn't always necessary. If you're just going to move on to futher reduction steps that use this trimmed array, you might not need to write out this array to a fits file.)"
   ]
  },
  {
   "cell_type": "code",
   "execution_count": 75,
   "metadata": {},
   "outputs": [],
   "source": [
    "hdu = fits.PrimaryHDU(masterbias_trimmed)\n",
    "hdu.writeto('trimmed/trim_m92001.fits', overwrite=True)"
   ]
  },
  {
   "cell_type": "markdown",
   "metadata": {},
   "source": [
    "This subtraction of the overscan needs to be done to all the other FITS files in this directory by starting with the appropriate steps above to read the FITS data into an array and trim the array as in the previous step. \n",
    "\n",
    "Let's devise a quick way to do this. In this directory where your ccd1.ipynb file and all your data files are located, make a list called \"files.list\" of all the files *excluding* the master bias frame. \n"
   ]
  },
  {
   "cell_type": "code",
   "execution_count": 76,
   "metadata": {},
   "outputs": [
    {
     "name": "stdout",
     "output_type": "stream",
     "text": [
      "data/m92006.fits\n",
      "data/m92007.fits\n",
      "data/m92010.fits\n",
      "data/m92011.fits\n",
      "data/m92014.fits\n",
      "data/m92015.fits\n",
      "\n"
     ]
    },
    {
     "data": {
      "text/plain": [
       "102"
      ]
     },
     "execution_count": 76,
     "metadata": {},
     "output_type": "execute_result"
    }
   ],
   "source": [
    "import subprocess\n",
    "fileList=subprocess.check_output('ls data/m92*.fits|grep -v 001', shell=True).decode('utf-8')\n",
    "print(fileList)\n",
    "fileListOut=open('files.list', 'w')\n",
    "fileListOut.write(fileList)"
   ]
  },
  {
   "cell_type": "code",
   "execution_count": 22,
   "metadata": {},
   "outputs": [
    {
     "data": {
      "text/plain": [
       "'data/m92006.fits\\ndata/m92007.fits\\ndata/m92010.fits\\ndata/m92011.fits\\ndata/m92014.fits\\ndata/m92015.fits\\n'"
      ]
     },
     "execution_count": 22,
     "metadata": {},
     "output_type": "execute_result"
    }
   ],
   "source": [
    "fileList"
   ]
  },
  {
   "cell_type": "code",
   "execution_count": 23,
   "metadata": {},
   "outputs": [
    {
     "name": "stdout",
     "output_type": "stream",
     "text": [
      "['data/m92006.fits' 'data/m92007.fits' 'data/m92010.fits'\n",
      " 'data/m92011.fits' 'data/m92014.fits' 'data/m92015.fits']\n"
     ]
    }
   ],
   "source": [
    "files=np.genfromtxt(\"files.list\",dtype=bytearray,names=('filename'))\n",
    "infiles=files['filename']\n",
    "for i in range (0, len(infiles)):\n",
    "    infiles[i]=infiles[i].decode('utf-8')\n",
    "print(infiles)"
   ]
  },
  {
   "cell_type": "code",
   "execution_count": 24,
   "metadata": {},
   "outputs": [
    {
     "name": "stdout",
     "output_type": "stream",
     "text": [
      "data/m92006.fits\n",
      "data/m92007.fits\n",
      "data/m92010.fits\n",
      "data/m92011.fits\n",
      "data/m92014.fits\n",
      "data/m92015.fits\n"
     ]
    }
   ],
   "source": [
    "for file in infiles:\n",
    "    sci_fn = file\n",
    "    print(sci_fn)\n",
    "    (sci_fn_dir, sci_fn_name)=sci_fn.split('/')\n",
    "    out= \"trimmed/trim_\"+sci_fn_name\n",
    "    sci_hdulist = fits.open(sci_fn)\n",
    "    data = sci_hdulist[0].data.astype(np.float)\n",
    "    trimmed=data[:,:320]\n",
    "    hdu = fits.PrimaryHDU(trimmed)\n",
    "    hdu.writeto(out,overwrite=True)"
   ]
  },
  {
   "cell_type": "markdown",
   "metadata": {},
   "source": [
    "Verify that you now have a set of FITS files called trim\\_\\*.fits corresponding to each file you started out with.\n",
    "\n",
    "## Bias subtraction\n",
    "\n",
    "The next step in the reduction process is to remove the bias level from all frames. The bias level is contained in the your trimmed master bias frame, here called trim\\_m92001.fits \n"
   ]
  },
  {
   "cell_type": "code",
   "execution_count": 25,
   "metadata": {},
   "outputs": [
    {
     "name": "stdout",
     "output_type": "stream",
     "text": [
      "(512, 320)\n"
     ]
    }
   ],
   "source": [
    "sci_fn = 'trimmed/trim_m92001.fits'\n",
    "sci_hdulist = fits.open(sci_fn)\n",
    "bias = sci_hdulist[0].data.astype(np.float)\n",
    "print(bias.shape)\n",
    "\n",
    "for file in infiles:\n",
    "    infile=file\n",
    "    (infile_dir, infile_name)=infile.split('/')\n",
    "    sci_fn = \"trimmed/trim_\"+infile_name\n",
    "    out= \"unbiased/bias_\"+infile_name\n",
    "    sci_hdulist = fits.open(sci_fn)\n",
    "    data = sci_hdulist[0].data.astype(np.float)\n",
    "    biassub=data-bias\n",
    "    hdu = fits.PrimaryHDU(biassub)\n",
    "    hdu.writeto(out, overwrite=True)"
   ]
  },
  {
   "cell_type": "code",
   "execution_count": 58,
   "metadata": {},
   "outputs": [],
   "source": [
    "def printStats(arr,name):\n",
    "    print(name,\" Mean:\",'{:.2f}'.format(np.mean(biased)),\"Median:\",'{:.2f}'.format(np.median(biased)),\n",
    "          \"Standard Deviation\",'{:.2f}'.format(np.std(biased)),\"min:\", '{:.2f}'.format(np.min(biased)), \"MAX:\",'{:.2f}'.format(np.max(biased)))\n",
    "    print()"
   ]
  },
  {
   "cell_type": "code",
   "execution_count": 112,
   "metadata": {
    "scrolled": true
   },
   "outputs": [
    {
     "name": "stdout",
     "output_type": "stream",
     "text": [
      "Master Mean: 501.02 Median: 500.00 Standard Deviation 4.10 min: 494.0 MAX: 713.0\n",
      "\n",
      "\n",
      "biased_m92006.fits Mean: 1711.18 Median: 1830.00 Standard Deviation 397.45 min: 490.00 MAX: 5581.00 'Contrast': 0.23226774710936804\n",
      "\n",
      "\u001b[31munbiased_m92006.fits \u001b[0mMean: 1330.37 Median: 1332.00 Standard Deviation 120.08 min: 0.00 MAX: 5080.00 'Contrast': 0.09026275349061468\n",
      "\n",
      "\n",
      "biased_m92007.fits Mean: 1836.72 Median: 1968.00 Standard Deviation 436.54 min: 492.00 MAX: 5985.00 'Contrast': 0.23767311461240961\n",
      "\n",
      "\u001b[31munbiased_m92007.fits \u001b[0mMean: 1468.34 Median: 1470.00 Standard Deviation 125.12 min: 5.00 MAX: 5484.00 'Contrast': 0.08521443038379428\n",
      "\n",
      "\n",
      "biased_m92010.fits Mean: 549.67 Median: 548.00 Standard Deviation 93.69 min: 481.00 MAX: 10649.00 'Contrast': 0.1704402955059666\n",
      "\n",
      "\u001b[31munbiased_m92010.fits \u001b[0mMean: 52.90 Median: 48.00 Standard Deviation 97.07 min: -13.00 MAX: 10146.00 'Contrast': 1.8350178823285217\n",
      "\n",
      "\n",
      "biased_m92011.fits Mean: 549.81 Median: 549.00 Standard Deviation 82.93 min: 477.00 MAX: 8332.00 'Contrast': 0.1508318333264466\n",
      "\n",
      "\u001b[31munbiased_m92011.fits \u001b[0mMean: 53.03 Median: 49.00 Standard Deviation 85.66 min: -9.00 MAX: 7829.00 'Contrast': 1.6153220869125693\n",
      "\n",
      "\n",
      "biased_m92014.fits Mean: 545.63 Median: 545.00 Standard Deviation 54.27 min: 480.00 MAX: 4942.00 'Contrast': 0.09945755930404837\n",
      "\n",
      "\u001b[31munbiased_m92014.fits \u001b[0mMean: 48.54 Median: 46.00 Standard Deviation 55.13 min: -10.00 MAX: 4445.00 'Contrast': 1.135858184250231\n",
      "\n",
      "\n",
      "biased_m92015.fits Mean: 545.71 Median: 545.00 Standard Deviation 57.28 min: 475.00 MAX: 5671.00 'Contrast': 0.10495734844322327\n",
      "\n",
      "\u001b[31munbiased_m92015.fits \u001b[0mMean: 48.60 Median: 46.00 Standard Deviation 58.40 min: -11.00 MAX: 5174.00 'Contrast': 1.2015553268209969\n",
      "\n",
      "\n"
     ]
    }
   ],
   "source": [
    "master=fits.open('data/m92001.fits')[0].data.astype(np.float)\n",
    "print(\"Master\",\"Mean:\",'{:.2f}'.format(np.mean(master)),\"Median:\",'{:.2f}'.format(np.median(master)),\"Standard Deviation\",'{:.2f}'.format(np.std(master)), \"min:\", np.min(master), \"MAX:\",np.max(master))\n",
    "print(\"\\n\")\n",
    "for file in infiles:\n",
    "    (infile_dir, infile_name)=file.split('/')\n",
    "    biased=fits.open(\"data/\"+infile_name)[0].data.astype(np.float)\n",
    "    unbiased=fits.open(\"unbiased/bias_\"+infile_name)[0].data.astype(np.float)\n",
    "    print(\"biased_\"+infile_name,\"Mean:\",'{:.2f}'.format(np.mean(biased)),\"Median:\",'{:.2f}'.format(np.median(biased)),\n",
    "          \"Standard Deviation\",'{:.2f}'.format(np.std(biased)),\"min:\", '{:.2f}'.format(np.min(biased)), \n",
    "          \"MAX:\",'{:.2f}'.format(np.max(biased)),'\\'Contrast\\':', np.std(biased)/np.mean(biased))\n",
    "    print()\n",
    "    print(\"\\u001b[31munbiased_\"+infile_name,\"\\u001b[0mMean:\",'{:.2f}'.format(np.mean(unbiased)),\"Median:\",'{:.2f}'.format(np.median(unbiased)),\n",
    "        \"Standard Deviation\",'{:.2f}'.format(np.std(unbiased)), \"min:\", '{:.2f}'.format(np.min(unbiased)), \n",
    "          \"MAX:\",'{:.2f}'.format(np.max(unbiased)),'\\'Contrast\\':', np.std(unbiased)/np.mean(unbiased))\n",
    "    print(\"\\n\")"
   ]
  },
  {
   "cell_type": "markdown",
   "metadata": {},
   "source": [
    "Verify that you now have a set of files called bias\\_m92006.fits, bias\\_m92007.fits, etc. These are the frames that have been both trimmed and bias subtracted.\n",
    "\n",
    "**QUESTION:** Calculate the image statistics (mean, median, standard deviation, min & max) on: (1) the master bias frame; (2) the pre-bias-corrected frames; and (3) the post-bias-corrected frames and note them here. Are these values consistent with your expectations?\n",
    "\n",
    "These values are consistent with my expectations.  Removing the bias increased the standard deviation for most of the images, meaning there is more contract in the images.  Additionally for many of the images the mean and median was reduced, which would be expected for subtracting biased noise.\n",
    "\n",
    "## Flat field\n",
    "\n",
    "We have finally arrived at the flat fielding stage. We have two flats and they need to be normalized before we divide our object frames by *the flat field frame appropriate for its filter*.\n",
    "\n",
    "We will use image statistics to determine the normalization value for each flat, and then use our same image math techniques to create the normalized flats.\n",
    "\n",
    "You now have all the tools to perform these tasks. Here are the steps:\n",
    "\n",
    " 1. Determine which frame is the flat in the B filter and which is the flat in the V filter by examinine the header information. Usually that is in a FILTER header keyword. Here the information you need is in the OBJECT keyword:\n",
    "\n",
    " > fitsheader --keyword OBJECT m92\\*.fits\n",
    "\n",
    " 2. Find the mode of the B and V flats:"
   ]
  },
  {
   "cell_type": "code",
   "execution_count": 67,
   "metadata": {},
   "outputs": [],
   "source": [
    "#Replace NN with the correct number for the B flat field image\n",
    "from scipy import stats\n",
    "\n",
    "def normalizeFile(flatFile):\n",
    "    sci_fn=flatFile\n",
    "    sci_hdulist=fits.open(sci_fn)\n",
    "    flat=sci_hdulist[0].data.astype(np.float)\n",
    "    MODE=stats.mode(flat, axis=None)[0][0]\n",
    "    normalize_flat=flat/MODE\n",
    "    normalize_flat[normalize_flat==0]=1.\n",
    "    return normalize_flat"
   ]
  },
  {
   "cell_type": "markdown",
   "metadata": {},
   "source": [
    " 3.Normalize the flat field by its mode\n"
   ]
  },
  {
   "cell_type": "code",
   "execution_count": 29,
   "metadata": {},
   "outputs": [],
   "source": [
    "#Replace MODE with the value of the previous operation.\n",
    "\n",
    "#This last step replaces any pixels that are =0 with a value of 1 in the normalized flat. This\n",
    "#is necessary to avoid errors when we divide by this frame below.\n",
    "\n",
    "#Add extra cells to repeat the previous step and this step for the flat in the V filter.\n",
    "#Call the files Vflat and nVflat."
   ]
  },
  {
   "cell_type": "code",
   "execution_count": 68,
   "metadata": {},
   "outputs": [],
   "source": [
    "nBflat=normalizeFile('unbiased/bias_m92006.fits')\n",
    "nVflat=normalizeFile('unbiased/bias_m92007.fits')"
   ]
  },
  {
   "cell_type": "code",
   "execution_count": 109,
   "metadata": {},
   "outputs": [],
   "source": [
    "def printStats(arr,name):\n",
    "    print(name,\" Mean:\",'{:.2f}'.format(np.mean(arr)),\"Median:\",'{:.2f}'.format(np.median(arr)),\n",
    "          \"Standard Deviation\",'{:.2f}'.format(np.std(arr)),\"min:\", '{:.2f}'.format(np.min(arr)), \n",
    "          \"MAX:\",'{:.2f}'.format(np.max(arr)), '\\'Contrast\\':', np.std(arr)/np.mean(arr))"
   ]
  },
  {
   "cell_type": "code",
   "execution_count": 110,
   "metadata": {},
   "outputs": [
    {
     "name": "stdout",
     "output_type": "stream",
     "text": [
      "\u001b[34mnBflat  Mean: 1.00 Median: 1.00 Standard Deviation 0.09 min: 0.00 MAX: 3.81 'Contrast': 0.09022838527496395\n",
      "\u001b[32mnVflat  Mean: 1.00 Median: 1.00 Standard Deviation 0.09 min: 0.00 MAX: 3.73 'Contrast': 0.08521443038379431\n"
     ]
    }
   ],
   "source": [
    "printStats(nBflat,\"\\u001b[34mnBflat\")\n",
    "printStats(nVflat,\"\\u001b[32mnVflat\")"
   ]
  },
  {
   "cell_type": "markdown",
   "metadata": {},
   "source": [
    "**QUESTION:** What effect does this division by the mode have on the image, i.e. why do we refer to this as normalizing the flat field frames?\n",
    "\n",
    "The effect is that the average deviation of the pixels is reduced, while still keeping contrast (technically coefficiant of variation).  It's referred to as normalizing it because we set the maximum value to be 1 and effectively(sort of) scaling the other pixels by the amount we scaled the maximum\n",
    "\n",
    "**QUESTION:** What are the statistics (mean, median, standard deviation) for these normalized flat fields? Comment on the values of the mean & median for a normalized image.\n",
    "The mean and median are both 1"
   ]
  },
  {
   "cell_type": "markdown",
   "metadata": {},
   "source": [
    "4.Now divide each of the object frames by the appropriate normalized flat for that filter. And write to a new fits file. Add extra cells for the additional data frames as necessary."
   ]
  },
  {
   "cell_type": "code",
   "execution_count": 102,
   "metadata": {},
   "outputs": [],
   "source": [
    "#Replace NN as two cells above\n",
    "def normalizeImage(image, flat):\n",
    "    (image_dir, image_name)=image.split('/bias_')\n",
    "    sci_fn = image\n",
    "    sci_hdulist = fits.open(sci_fn)\n",
    "    data = sci_hdulist[0].data.astype(np.float)\n",
    "    if flat==\"B\":\n",
    "        fdata=data/nBflat\n",
    "    else:\n",
    "        fdata=data/nVflat\n",
    "    hdu = fits.PrimaryHDU(fdata)\n",
    "    hdu.writeto('flat/flat_'+image_name, overwrite=True)"
   ]
  },
  {
   "cell_type": "code",
   "execution_count": 94,
   "metadata": {},
   "outputs": [],
   "source": [
    "for file in {'unbiased/bias_m92010.fits','unbiased/bias_m92011.fits'}:\n",
    "    normalizeImage(file,'V')\n",
    "for file in {'unbiased/bias_m92014.fits','unbiased/bias_m92015.fits'}:\n",
    "    normalizeImage(file,'B')"
   ]
  },
  {
   "cell_type": "markdown",
   "metadata": {},
   "source": [
    "Look at these final images with ds9. Check to see if the background is flat across the image.  Sometimes the dome flats are not sufficient for flattening images and additional sky flats may need to be used. For your observations, you'll just use these sky flats, which can be normalized in the same way.\n",
    "\n",
    "You now have a set of images that have been zero and flat corrected. As noted above, you will not have to do an overscan substraction for the data frames for your observing project. You will however, need to do a dark current subtraction after averaging your dark current frames and scaling them by the exposure time in your data frames.\n",
    "\n",
    "Write the commands for flat field correction into your ccd1\\_reduce.py script for later use. You will not necessarily need to use a for loop for these, due to the small number of frames involved in each calculation, but depending on the number of files you have to reduce for your project, you may want to edit this later. \n",
    "\n",
    "Often in data reduction and analysis, there are many choices of methods that all give the correct output, just choose what makes the most sense for you. It is good practice to devise ways to check your results by calculating image statistics or using a viewer like ds9."
   ]
  }
 ],
 "metadata": {
  "kernelspec": {
   "display_name": "Python 3",
   "language": "python",
   "name": "python3"
  },
  "language_info": {
   "codemirror_mode": {
    "name": "ipython",
    "version": 3
   },
   "file_extension": ".py",
   "mimetype": "text/x-python",
   "name": "python",
   "nbconvert_exporter": "python",
   "pygments_lexer": "ipython3",
   "version": "3.5.6"
  }
 },
 "nbformat": 4,
 "nbformat_minor": 2
}
