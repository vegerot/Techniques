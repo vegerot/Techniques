{
 "cells": [
  {
   "cell_type": "markdown",
   "metadata": {},
   "source": [
    "# Data fitting and plotting"
   ]
  },
  {
   "cell_type": "markdown",
   "metadata": {},
   "source": [
    "This notebook is a very brief introduction to plotting using matplotlib and curve fitting using the scipy routine curve_fit\n",
    "\n",
    "Adapted from a notebook distributed at a Python workshop given by folks in the Science Software Branch of the Space Telescope Science Institute at the 2016 American Astronomical Society Meeting.\n"
   ]
  },
  {
   "cell_type": "code",
   "execution_count": null,
   "metadata": {
    "collapsed": true
   },
   "outputs": [],
   "source": [
    "import numpy as np\n",
    "%matplotlib inline\n",
    "from matplotlib import pyplot as plt\n",
    "%matplotlib inline  \n",
    "#for plotting within this notebook\n",
    "\n",
    "from scipy.optimize import curve_fit"
   ]
  },
  {
   "cell_type": "markdown",
   "metadata": {},
   "source": [
    "### Exercise 1: Fitting a line\n",
    "\n",
    "- Generate fake data\n",
    "\n",
    "```\n",
    "np.random.seed(0)\n",
    "x = np.linspace(-5., 5., 20)\n",
    "y = 3.5*x + 7.2\n",
    "sigy=np.random.normal(0., 3., x.shape)\n",
    "y += sigy\n",
    "```\n",
    "- Fit a line to it.\n",
    "- Display the results."
   ]
  },
  {
   "cell_type": "code",
   "execution_count": null,
   "metadata": {},
   "outputs": [],
   "source": [
    "np.random.seed(0)\n",
    "x = np.linspace(-5., 5., 20)\n",
    "y = 3.5 *x + 7.2\n",
    "sigy=np.random.normal(0., 3.5, x.shape)  #adding some noise\n",
    "y += sigy  #adding some noise\n",
    "plt.scatter(x, y)\n",
    "plt.errorbar(x, y, yerr=sigy, linestyle=\"None\", color=\"blue\")"
   ]
  },
  {
   "cell_type": "code",
   "execution_count": null,
   "metadata": {
    "collapsed": true
   },
   "outputs": [],
   "source": [
    "def fit_func(x, a, b):\n",
    "    return a*x + b"
   ]
  },
  {
   "cell_type": "code",
   "execution_count": null,
   "metadata": {},
   "outputs": [],
   "source": [
    "params = curve_fit(fit_func, x, y, sigma=sigy)\n",
    "#This returns the fit parameters and the covariance matrix of the fit. \n",
    "#The diagonal elements are the estimates of the variances on the parameters.\n",
    "params"
   ]
  },
  {
   "cell_type": "code",
   "execution_count": null,
   "metadata": {},
   "outputs": [],
   "source": [
    "[a, b] = params[0]\n",
    "print a,b"
   ]
  },
  {
   "cell_type": "code",
   "execution_count": null,
   "metadata": {},
   "outputs": [],
   "source": [
    "yfit=a*x + b\n",
    "plt.scatter(x, y)\n",
    "plt.errorbar(x, y, yerr=sigy, linestyle=\"None\", color=\"blue\")\n",
    "plt.plot(x,yfit,color=\"red\")"
   ]
  },
  {
   "cell_type": "markdown",
   "metadata": {},
   "source": [
    "### Exercise 2: Fitting a Gaussian\n",
    "\n",
    "- Generate fake data\n",
    "```\n",
    "np.random.seed(0)\n",
    "x = np.linspace(-5., 5., 100)\n",
    "y = 3 * np.exp(-0.5 * (x - 1.3)**2 / 0.8**2)\n",
    "y += np.random.normal(0., 0.5, x.shape)\n",
    "```\n",
    "\n",
    "- Fit a Gaussian1D model to it.\n",
    "- Display the results."
   ]
  },
  {
   "cell_type": "code",
   "execution_count": null,
   "metadata": {},
   "outputs": [],
   "source": [
    "np.random.seed(0)\n",
    "x = np.linspace(-5., 5., 100)\n",
    "y = 3 * np.exp(-0.5 * (x - 1.3)**2 / 0.8**2)\n",
    "sigy=np.random.normal(0., 0.5, x.shape)\n",
    "y += sigy  \n",
    "plt.scatter(x, y)\n",
    "plt.errorbar(x, y, yerr=sigy, linestyle=\"None\", color=\"blue\")"
   ]
  },
  {
   "cell_type": "code",
   "execution_count": null,
   "metadata": {
    "collapsed": true
   },
   "outputs": [],
   "source": [
    "def fit_func(x, mu, sig, norm):\n",
    "    return norm*np.exp(-0.5 * (x - mu)**2 / sig**2)"
   ]
  },
  {
   "cell_type": "code",
   "execution_count": null,
   "metadata": {},
   "outputs": [],
   "source": [
    "params = curve_fit(fit_func, x, y, sigma=sigy)\n",
    "params"
   ]
  },
  {
   "cell_type": "code",
   "execution_count": null,
   "metadata": {
    "collapsed": true
   },
   "outputs": [],
   "source": [
    "[mu,sig,norm]=params[0]"
   ]
  },
  {
   "cell_type": "code",
   "execution_count": null,
   "metadata": {
    "scrolled": true
   },
   "outputs": [],
   "source": [
    "yfit=norm*np.exp(-0.5 * (x - mu)**2 / sig**2)\n",
    "plt.scatter(x, y)\n",
    "plt.errorbar(x, y, yerr=sigy, linestyle=\"None\", color=\"blue\")\n",
    "plt.plot(x,yfit, color=\"red\")"
   ]
  },
  {
   "cell_type": "markdown",
   "metadata": {},
   "source": [
    "# For further information:"
   ]
  },
  {
   "cell_type": "markdown",
   "metadata": {},
   "source": [
    "https://www.scipy-lectures.org/intro/matplotlib/index.html\n",
    "\n",
    "https://www.scipy-lectures.org/intro/scipy.html"
   ]
  }
 ],
 "metadata": {
  "kernelspec": {
   "display_name": "Python 3",
   "language": "python",
   "name": "python3"
  },
  "language_info": {
   "codemirror_mode": {
    "name": "ipython",
    "version": 3
   },
   "file_extension": ".py",
   "mimetype": "text/x-python",
   "name": "python",
   "nbconvert_exporter": "python",
   "pygments_lexer": "ipython3",
   "version": "3.5.6"
  }
 },
 "nbformat": 4,
 "nbformat_minor": 1
}
