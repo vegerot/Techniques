{
 "cells": [
  {
   "cell_type": "markdown",
   "metadata": {},
   "source": [
    "# Introduction to FITS images and image math\n",
    "___________________________________________________________________________\n",
    "\n",
    "This is a short exercise that should help acquaint you with the basics of dealing with data in Astropy.\n",
    "\n",
    "## ds9 \n",
    "\n",
    "First, change directories to where you have stored the two images you'll be working with and the open a ds9 window from the command line (not inside this notebook).\n",
    "\n",
    "      ds9 &\n",
    "\n",
    "(The \"&\" allows you to launch these other windows and get the command prompt back on the current window.)\n",
    "\n",
    "Use File -> Open to load im010.fits. Take a moment to acquaint yourself with ds9, if you have not used it before. \n",
    "\n",
    "You should know how to zoom, pan, window, and blink.  All options are done with the mouse. Notice the pull down menus at the top of the window on the left side.  Pull each menu down and review the selections - use the left mouse button to pull down the menus.\n",
    "\n",
    "Note the Physical and Image boxes at the top of the window showing the X,Y position of the cursor in the image frame.\n",
    "\n",
    "At the top of the image display portion of the window, there are some buttons. The top row are menu level and the bottom row are options under each menu.\n",
    "\n",
    "The box in the upper right corner is a \"panner\" box - it shows you what part of the image you are currently looking at. Choose the \"zoom\" menu button and investigate the zoom options.\n",
    "\n",
    "You can adjust contrast and brightness by holding the right mouse button down on the image and moving the mouse left/right and up/down. Try it. Can you flip the brightness scale to get dark stars on a white background?\n",
    "\n",
    "We want to blink this field and that of im011.  So we will need to load the second image into the second frame buffer - you have 4 frame buffers available for images.\n",
    "\n",
    "Select the frame button and then first. Now select next. Note how this toggles between the two frames (see the File field at the top of the window.) Now select blink and you will see the two frames switch back and forth. Do you see the small shift in position between the two frames\n",
    "\n",
    "Selecting single will end the blinking.\n",
    "\n",
    "Play a bit with ds9 until you feel comfortable with it. It has many more features.\n",
    "\n",
    "Now back to our original problem of computing and correcting for these shifts. \n",
    "Pick 3 stars visible in both frames and measure their x,y pixel values using ds9. \n",
    "\n",
    "**QUESTION:**<br>\n",
    "Enter those coordinates here:\n",
    "\n",
    "\n",
    "             im010         im011<br>\n",
    "star 1<br>  (183.856,188.724) (184.390, 191.375)\n",
    "star 2<br>  (191.812,82.682). (192.873,85.333)\n",
    "star 3<br>  (63.502,18.527)   (63.502, 20.648) \n",
    "\n",
    "**QUESTION:**<br>\n",
    "Now compute and report your average shifts of im011 from im010 in both coordinates:<br>\n",
    "X <br> -.531\n",
    "Y <br> -2.47\n",
    "\n",
    "## Python\n",
    "\n",
    "Our next task is to apply the shift to im011. \n",
    "\n",
    "For that, we'll use the Numerical Python (numpy) package within Scientific python (Scipy), in the steps outlined below.\n",
    "We'll also use the matplotlib package to display data within the notebook (rather than with ds9) and we'll make use of the Astropy package for FITS file input/output.<br>\n",
    "\n",
    "https://docs.scipy.org\n"
   ]
  },
  {
   "cell_type": "code",
   "execution_count": 1,
   "metadata": {},
   "outputs": [],
   "source": [
    "#initial imports\n",
    "import numpy as np\n",
    "import matplotlib.pyplot as plt\n",
    "from scipy import ndimage   #submodule for image processing\n",
    "\n",
    "# change some default plotting parameters\n",
    "import matplotlib as mpl\n",
    "mpl.rcParams['image.origin'] = 'lower'\n",
    "mpl.rcParams['image.interpolation'] = 'nearest'\n",
    "mpl.rcParams['image.cmap'] = 'Greys_r'\n",
    "\n",
    "# run the %matplotlib magic command to enable inline plotting\n",
    "# in the current Notebook\n",
    "%matplotlib inline"
   ]
  },
  {
   "cell_type": "markdown",
   "metadata": {},
   "source": [
    "## Handling FITS files\n",
    "astropy.io.fits  http://docs.astropy.org/en/stable/io/fits/index.html \n",
    "\n",
    "We'll see more about this in future tutorials\n"
   ]
  },
  {
   "cell_type": "code",
   "execution_count": 2,
   "metadata": {},
   "outputs": [],
   "source": [
    "#import astropy fits file handling package and read data array from fits file\n",
    "from astropy.io import fits\n",
    "img11 = 'data/im011.fits'\n",
    "img11_hdulist = fits.open(img11)\n",
    "img11_data = img11_hdulist[0].data.astype(np.float)"
   ]
  },
  {
   "cell_type": "code",
   "execution_count": 11,
   "metadata": {},
   "outputs": [],
   "source": [
    "#shift the data array-- substitute YOUR average xshift & yshift for 10,10 below\n",
    "from scipy import misc   #submodule for geometrical transformations\n",
    "shifted_img11 = ndimage.shift(img11_data, (-0.353667,-2.12067))"
   ]
  },
  {
   "cell_type": "code",
   "execution_count": 12,
   "metadata": {},
   "outputs": [],
   "source": [
    "#write to a new fits file\n",
    "hdu = fits.PrimaryHDU(shifted_img11)\n",
    "hdu.writeto('data/s011.fits')   #astropy function to write to fits file"
   ]
  },
  {
   "cell_type": "markdown",
   "metadata": {},
   "source": [
    "<br>\n",
    "**QUESTION:** In what directory was your new fits file created? Why?\n",
    "\n",
    "Load this newly created fits file into a new frame in ds9. You should now have im010.fits in one frame and s011.fits in another. Now, use the blink function under the frame menu to blink between the two frames and convince yourself they are well-aligned. If they are not, reexamine the shift you applied to im011.fits\n",
    "\n",
    "## Image math\n",
    "Our next step will be to combine im010.fits and s011.fits, the version of im011.fits that has been shifted to align with im010.fits. We will average the two frames. \n",
    "\n",
    "Once we have them both in the form of arrays, we can use simple array math on them. First, we have to read in im010.fits\n"
   ]
  },
  {
   "cell_type": "code",
   "execution_count": 13,
   "metadata": {},
   "outputs": [],
   "source": [
    "img10 = 'data/im010.fits'\n",
    "img10_hdulist = fits.open(img10)\n",
    "img10_data = img10_hdulist[0].data.astype(np.float)"
   ]
  },
  {
   "cell_type": "code",
   "execution_count": 15,
   "metadata": {},
   "outputs": [],
   "source": [
    "#compute average of im010 and s011\n",
    "im_avg= (img10_data + shifted_img11)/2.\n",
    "hdu=fits.PrimaryHDU(im_avg)\n",
    "hdu.writeto('data/avg.fits')"
   ]
  },
  {
   "cell_type": "markdown",
   "metadata": {},
   "source": [
    "<br>\n",
    "_**Optional practice:**_<br>\n",
    "Try writing out this new average file into a FITS file as you did for s011 above. <br>\n",
    "You may add new cells to this interactive notebook if you like. <br>\n",
    "Display the fits file in ds9.\n",
    "<br>\n",
    "\n",
    "\n",
    "## Creating an inline plot\n",
    "\n",
    "Now, let's create an inline view of this image, i.e. internal to this notebook.<br>\n"
   ]
  },
  {
   "cell_type": "code",
   "execution_count": 16,
   "metadata": {
    "scrolled": true
   },
   "outputs": [
    {
     "data": {
      "text/plain": [
       "<matplotlib.colorbar.Colorbar at 0xb1bd13470>"
      ]
     },
     "execution_count": 16,
     "metadata": {},
     "output_type": "execute_result"
    },
    {
     "data": {
      "image/png": "[encoded data removed]",
      "text/plain": [
       "<Figure size 432x288 with 2 Axes>"
      ]
     },
     "metadata": {
      "needs_background": "light"
     },
     "output_type": "display_data"
    }
   ],
   "source": [
    "# display the data file \n",
    "from astropy.visualization import (MinMaxInterval, SqrtStretch, ImageNormalize)\n",
    "norm = ImageNormalize(im_avg, interval=MinMaxInterval(),stretch=SqrtStretch())\n",
    "fig = plt.figure()\n",
    "ax = fig.add_subplot(1, 1, 1)\n",
    "im = ax.imshow(im_avg, origin='lower', norm=norm)\n",
    "fig.colorbar(im)\n",
    "#plt.imshow(data, scale='sqrt', percent=99.5)"
   ]
  },
  {
   "cell_type": "markdown",
   "metadata": {},
   "source": [
    "## Image statistics\n",
    "Now let's look at some statistics for this new, summed image."
   ]
  },
  {
   "cell_type": "code",
   "execution_count": 16,
   "metadata": {},
   "outputs": [
    {
     "data": {
      "text/plain": [
       "46.54866463821832"
      ]
     },
     "execution_count": 16,
     "metadata": {},
     "output_type": "execute_result"
    }
   ],
   "source": [
    "#mean pixel value\n",
    "np.mean(im_avg)"
   ]
  },
  {
   "cell_type": "code",
   "execution_count": 19,
   "metadata": {},
   "outputs": [
    {
     "data": {
      "text/plain": [
       "82.843392084252955"
      ]
     },
     "execution_count": 19,
     "metadata": {},
     "output_type": "execute_result"
    }
   ],
   "source": [
    "#standard deviation\n",
    "np.std(im_avg)"
   ]
  },
  {
   "cell_type": "code",
   "execution_count": 20,
   "metadata": {},
   "outputs": [
    {
     "data": {
      "text/plain": [
       "42.300310811164174"
      ]
     },
     "execution_count": 20,
     "metadata": {},
     "output_type": "execute_result"
    }
   ],
   "source": [
    "#median\n",
    "np.median(im_avg)"
   ]
  },
  {
   "cell_type": "markdown",
   "metadata": {},
   "source": [
    "<br>\n",
    "**Question:** \n",
    "Add cells in this notebook to take a difference of the two data arrays representing im010 and the shifted im011.<br>\n",
    "Create an inline plot of that difference array and calculate the image statistics as above."
   ]
  },
  {
   "cell_type": "code",
   "execution_count": null,
   "metadata": {
    "collapsed": true
   },
   "outputs": [],
   "source": []
  }
 ],
 "metadata": {
  "kernelspec": {
   "display_name": "Python 3",
   "language": "python",
   "name": "python3"
  },
  "language_info": {
   "codemirror_mode": {
    "name": "ipython",
    "version": 3
   },
   "file_extension": ".py",
   "mimetype": "text/x-python",
   "name": "python",
   "nbconvert_exporter": "python",
   "pygments_lexer": "ipython3",
   "version": "3.5.6"
  }
 },
 "nbformat": 4,
 "nbformat_minor": 2
}
